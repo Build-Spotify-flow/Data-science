{
 "nbformat": 4,
 "nbformat_minor": 2,
 "metadata": {
  "language_info": {
   "name": "python",
   "codemirror_mode": {
    "name": "ipython",
    "version": 3
   },
   "version": "3.7.6-final"
  },
  "orig_nbformat": 2,
  "file_extension": ".py",
  "mimetype": "text/x-python",
  "name": "python",
  "npconvert_exporter": "python",
  "pygments_lexer": "ipython3",
  "version": 3,
  "kernelspec": {
   "name": "python37664bitspotifyprojectcondac43a0d5e8a994491b9c2a544cd5b9cf9",
   "display_name": "Python 3.7.6 64-bit ('Spotify-Project': conda)"
  }
 },
 "cells": [
  {
   "cell_type": "code",
   "execution_count": 1,
   "metadata": {},
   "outputs": [],
   "source": [
    "import pandas as pd\n",
    "import plotly.express as px"
   ]
  },
  {
   "cell_type": "code",
   "execution_count": 2,
   "metadata": {},
   "outputs": [
    {
     "data": {
      "text/html": "<div>\n<style scoped>\n    .dataframe tbody tr th:only-of-type {\n        vertical-align: middle;\n    }\n\n    .dataframe tbody tr th {\n        vertical-align: top;\n    }\n\n    .dataframe thead th {\n        text-align: right;\n    }\n</style>\n<table border=\"1\" class=\"dataframe\">\n  <thead>\n    <tr style=\"text-align: right;\">\n      <th></th>\n      <th>artist_name</th>\n      <th>track_id</th>\n      <th>track_name</th>\n      <th>acousticness</th>\n      <th>danceability</th>\n      <th>duration_ms</th>\n      <th>energy</th>\n      <th>instrumentalness</th>\n      <th>key</th>\n      <th>liveness</th>\n      <th>loudness</th>\n      <th>mode</th>\n      <th>speechiness</th>\n      <th>tempo</th>\n      <th>time_signature</th>\n      <th>valence</th>\n      <th>popularity</th>\n    </tr>\n  </thead>\n  <tbody>\n    <tr>\n      <th>0</th>\n      <td>YG</td>\n      <td>2RM4jf1Xa9zPgMGRDiht8O</td>\n      <td>Big Bank feat. 2 Chainz, Big Sean, Nicki Minaj</td>\n      <td>0.005820</td>\n      <td>0.743</td>\n      <td>238373</td>\n      <td>0.339</td>\n      <td>0.000</td>\n      <td>1</td>\n      <td>0.0812</td>\n      <td>-7.678</td>\n      <td>1</td>\n      <td>0.4090</td>\n      <td>203.927</td>\n      <td>4</td>\n      <td>0.118</td>\n      <td>15</td>\n    </tr>\n    <tr>\n      <th>1</th>\n      <td>YG</td>\n      <td>1tHDG53xJNGsItRA3vfVgs</td>\n      <td>BAND DRUM (feat. A$AP Rocky)</td>\n      <td>0.024400</td>\n      <td>0.846</td>\n      <td>214800</td>\n      <td>0.557</td>\n      <td>0.000</td>\n      <td>8</td>\n      <td>0.2860</td>\n      <td>-7.259</td>\n      <td>1</td>\n      <td>0.4570</td>\n      <td>159.009</td>\n      <td>4</td>\n      <td>0.371</td>\n      <td>0</td>\n    </tr>\n    <tr>\n      <th>2</th>\n      <td>R3HAB</td>\n      <td>6Wosx2euFPMT14UXiWudMy</td>\n      <td>Radio Silence</td>\n      <td>0.025000</td>\n      <td>0.603</td>\n      <td>138913</td>\n      <td>0.723</td>\n      <td>0.000</td>\n      <td>9</td>\n      <td>0.0824</td>\n      <td>-5.890</td>\n      <td>0</td>\n      <td>0.0454</td>\n      <td>114.966</td>\n      <td>4</td>\n      <td>0.382</td>\n      <td>56</td>\n    </tr>\n    <tr>\n      <th>3</th>\n      <td>Chris Cooq</td>\n      <td>3J2Jpw61sO7l6Hc7qdYV91</td>\n      <td>Lactose</td>\n      <td>0.029400</td>\n      <td>0.800</td>\n      <td>125381</td>\n      <td>0.579</td>\n      <td>0.912</td>\n      <td>5</td>\n      <td>0.0994</td>\n      <td>-12.118</td>\n      <td>0</td>\n      <td>0.0701</td>\n      <td>123.003</td>\n      <td>4</td>\n      <td>0.641</td>\n      <td>0</td>\n    </tr>\n    <tr>\n      <th>4</th>\n      <td>Chris Cooq</td>\n      <td>2jbYvQCyPgX3CdmAzeVeuS</td>\n      <td>Same - Original mix</td>\n      <td>0.000035</td>\n      <td>0.783</td>\n      <td>124016</td>\n      <td>0.792</td>\n      <td>0.878</td>\n      <td>7</td>\n      <td>0.0332</td>\n      <td>-10.277</td>\n      <td>1</td>\n      <td>0.0661</td>\n      <td>120.047</td>\n      <td>4</td>\n      <td>0.928</td>\n      <td>0</td>\n    </tr>\n  </tbody>\n</table>\n</div>",
      "text/plain": "  artist_name                track_id  \\\n0          YG  2RM4jf1Xa9zPgMGRDiht8O   \n1          YG  1tHDG53xJNGsItRA3vfVgs   \n2       R3HAB  6Wosx2euFPMT14UXiWudMy   \n3  Chris Cooq  3J2Jpw61sO7l6Hc7qdYV91   \n4  Chris Cooq  2jbYvQCyPgX3CdmAzeVeuS   \n\n                                       track_name  acousticness  danceability  \\\n0  Big Bank feat. 2 Chainz, Big Sean, Nicki Minaj      0.005820         0.743   \n1                    BAND DRUM (feat. A$AP Rocky)      0.024400         0.846   \n2                                   Radio Silence      0.025000         0.603   \n3                                         Lactose      0.029400         0.800   \n4                             Same - Original mix      0.000035         0.783   \n\n   duration_ms  energy  instrumentalness  key  liveness  loudness  mode  \\\n0       238373   0.339             0.000    1    0.0812    -7.678     1   \n1       214800   0.557             0.000    8    0.2860    -7.259     1   \n2       138913   0.723             0.000    9    0.0824    -5.890     0   \n3       125381   0.579             0.912    5    0.0994   -12.118     0   \n4       124016   0.792             0.878    7    0.0332   -10.277     1   \n\n   speechiness    tempo  time_signature  valence  popularity  \n0       0.4090  203.927               4    0.118          15  \n1       0.4570  159.009               4    0.371           0  \n2       0.0454  114.966               4    0.382          56  \n3       0.0701  123.003               4    0.641           0  \n4       0.0661  120.047               4    0.928           0  "
     },
     "execution_count": 2,
     "metadata": {},
     "output_type": "execute_result"
    }
   ],
   "source": [
    "datapath = 'https://raw.githubusercontent.com/Build-Spotify-flow/Data-science/master/Data/Dataset.csv'\n",
    "df = pd.read_csv(datapath)\n",
    "df.head()"
   ]
  },
  {
   "cell_type": "code",
   "execution_count": 3,
   "metadata": {},
   "outputs": [],
   "source": [
    "features = ['danceability', 'energy', 'instrumentalness', 'speechiness', 'valence']\n",
    "plotter = df[features]"
   ]
  },
  {
   "cell_type": "code",
   "execution_count": 18,
   "metadata": {},
   "outputs": [
    {
     "data": {
      "text/html": "<div>\n<style scoped>\n    .dataframe tbody tr th:only-of-type {\n        vertical-align: middle;\n    }\n\n    .dataframe tbody tr th {\n        vertical-align: top;\n    }\n\n    .dataframe thead th {\n        text-align: right;\n    }\n</style>\n<table border=\"1\" class=\"dataframe\">\n  <thead>\n    <tr style=\"text-align: right;\">\n      <th></th>\n      <th>danceability</th>\n      <th>energy</th>\n      <th>instrumentalness</th>\n      <th>speechiness</th>\n      <th>valence</th>\n    </tr>\n  </thead>\n  <tbody>\n    <tr>\n      <th>count</th>\n      <td>130989.000000</td>\n      <td>130989.000000</td>\n      <td>130989.000000</td>\n      <td>130989.000000</td>\n      <td>130989.000000</td>\n    </tr>\n    <tr>\n      <th>mean</th>\n      <td>0.581478</td>\n      <td>0.569244</td>\n      <td>0.223862</td>\n      <td>0.111966</td>\n      <td>0.439682</td>\n    </tr>\n    <tr>\n      <th>std</th>\n      <td>0.190024</td>\n      <td>0.260368</td>\n      <td>0.360274</td>\n      <td>0.124297</td>\n      <td>0.259075</td>\n    </tr>\n    <tr>\n      <th>min</th>\n      <td>0.000000</td>\n      <td>0.000000</td>\n      <td>0.000000</td>\n      <td>0.000000</td>\n      <td>0.000000</td>\n    </tr>\n    <tr>\n      <th>25%</th>\n      <td>0.459000</td>\n      <td>0.396000</td>\n      <td>0.000000</td>\n      <td>0.038900</td>\n      <td>0.224000</td>\n    </tr>\n    <tr>\n      <th>50%</th>\n      <td>0.605000</td>\n      <td>0.603000</td>\n      <td>0.000146</td>\n      <td>0.055800</td>\n      <td>0.420000</td>\n    </tr>\n    <tr>\n      <th>75%</th>\n      <td>0.727000</td>\n      <td>0.776000</td>\n      <td>0.439000</td>\n      <td>0.129000</td>\n      <td>0.638000</td>\n    </tr>\n    <tr>\n      <th>max</th>\n      <td>0.996000</td>\n      <td>1.000000</td>\n      <td>1.000000</td>\n      <td>0.966000</td>\n      <td>1.000000</td>\n    </tr>\n  </tbody>\n</table>\n</div>",
      "text/plain": "        danceability         energy  instrumentalness    speechiness  \\\ncount  130989.000000  130989.000000     130989.000000  130989.000000   \nmean        0.581478       0.569244          0.223862       0.111966   \nstd         0.190024       0.260368          0.360274       0.124297   \nmin         0.000000       0.000000          0.000000       0.000000   \n25%         0.459000       0.396000          0.000000       0.038900   \n50%         0.605000       0.603000          0.000146       0.055800   \n75%         0.727000       0.776000          0.439000       0.129000   \nmax         0.996000       1.000000          1.000000       0.966000   \n\n             valence  \ncount  130989.000000  \nmean        0.439682  \nstd         0.259075  \nmin         0.000000  \n25%         0.224000  \n50%         0.420000  \n75%         0.638000  \nmax         1.000000  "
     },
     "execution_count": 18,
     "metadata": {},
     "output_type": "execute_result"
    }
   ],
   "source": [
    "plotter.describe()"
   ]
  },
  {
   "cell_type": "code",
   "execution_count": 41,
   "metadata": {},
   "outputs": [
    {
     "data": {
      "application/vnd.plotly.v1+json": {
       "config": {
        "plotlyServerURL": "https://plot.ly"
       },
       "data": [
        {
         "fill": "toself",
         "hoverlabel": {
          "namelength": 0
         },
         "hovertemplate": "r=%{r}<br>theta=%{theta}",
         "legendgroup": "",
         "line": {
          "color": "#636efa",
          "dash": "solid"
         },
         "mode": "lines",
         "name": "",
         "r": [
          0.743,
          0.33899999999999997,
          0,
          0.409,
          0.11800000000000001,
          0.743
         ],
         "showlegend": false,
         "subplot": "polar",
         "theta": [
          "danceability",
          "energy",
          "instrumentalness",
          "speechiness",
          "valence",
          "danceability"
         ],
         "type": "scatterpolar"
        }
       ],
       "layout": {
        "legend": {
         "tracegroupgap": 0
        },
        "margin": {
         "t": 60
        },
        "polar": {
         "angularaxis": {
          "direction": "clockwise",
          "rotation": 90
         },
         "domain": {
          "x": [
           0,
           1
          ],
          "y": [
           0,
           1
          ]
         },
         "radialaxis": {
          "range": [
           0,
           1
          ]
         }
        },
        "template": {
         "data": {
          "bar": [
           {
            "error_x": {
             "color": "#f2f5fa"
            },
            "error_y": {
             "color": "#f2f5fa"
            },
            "marker": {
             "line": {
              "color": "rgb(17,17,17)",
              "width": 0.5
             }
            },
            "type": "bar"
           }
          ],
          "barpolar": [
           {
            "marker": {
             "line": {
              "color": "rgb(17,17,17)",
              "width": 0.5
             }
            },
            "type": "barpolar"
           }
          ],
          "carpet": [
           {
            "aaxis": {
             "endlinecolor": "#A2B1C6",
             "gridcolor": "#506784",
             "linecolor": "#506784",
             "minorgridcolor": "#506784",
             "startlinecolor": "#A2B1C6"
            },
            "baxis": {
             "endlinecolor": "#A2B1C6",
             "gridcolor": "#506784",
             "linecolor": "#506784",
             "minorgridcolor": "#506784",
             "startlinecolor": "#A2B1C6"
            },
            "type": "carpet"
           }
          ],
          "choropleth": [
           {
            "colorbar": {
             "outlinewidth": 0,
             "ticks": ""
            },
            "type": "choropleth"
           }
          ],
          "contour": [
           {
            "colorbar": {
             "outlinewidth": 0,
             "ticks": ""
            },
            "colorscale": [
             [
              0,
              "#0d0887"
             ],
             [
              0.1111111111111111,
              "#46039f"
             ],
             [
              0.2222222222222222,
              "#7201a8"
             ],
             [
              0.3333333333333333,
              "#9c179e"
             ],
             [
              0.4444444444444444,
              "#bd3786"
             ],
             [
              0.5555555555555556,
              "#d8576b"
             ],
             [
              0.6666666666666666,
              "#ed7953"
             ],
             [
              0.7777777777777778,
              "#fb9f3a"
             ],
             [
              0.8888888888888888,
              "#fdca26"
             ],
             [
              1,
              "#f0f921"
             ]
            ],
            "type": "contour"
           }
          ],
          "contourcarpet": [
           {
            "colorbar": {
             "outlinewidth": 0,
             "ticks": ""
            },
            "type": "contourcarpet"
           }
          ],
          "heatmap": [
           {
            "colorbar": {
             "outlinewidth": 0,
             "ticks": ""
            },
            "colorscale": [
             [
              0,
              "#0d0887"
             ],
             [
              0.1111111111111111,
              "#46039f"
             ],
             [
              0.2222222222222222,
              "#7201a8"
             ],
             [
              0.3333333333333333,
              "#9c179e"
             ],
             [
              0.4444444444444444,
              "#bd3786"
             ],
             [
              0.5555555555555556,
              "#d8576b"
             ],
             [
              0.6666666666666666,
              "#ed7953"
             ],
             [
              0.7777777777777778,
              "#fb9f3a"
             ],
             [
              0.8888888888888888,
              "#fdca26"
             ],
             [
              1,
              "#f0f921"
             ]
            ],
            "type": "heatmap"
           }
          ],
          "heatmapgl": [
           {
            "colorbar": {
             "outlinewidth": 0,
             "ticks": ""
            },
            "colorscale": [
             [
              0,
              "#0d0887"
             ],
             [
              0.1111111111111111,
              "#46039f"
             ],
             [
              0.2222222222222222,
              "#7201a8"
             ],
             [
              0.3333333333333333,
              "#9c179e"
             ],
             [
              0.4444444444444444,
              "#bd3786"
             ],
             [
              0.5555555555555556,
              "#d8576b"
             ],
             [
              0.6666666666666666,
              "#ed7953"
             ],
             [
              0.7777777777777778,
              "#fb9f3a"
             ],
             [
              0.8888888888888888,
              "#fdca26"
             ],
             [
              1,
              "#f0f921"
             ]
            ],
            "type": "heatmapgl"
           }
          ],
          "histogram": [
           {
            "marker": {
             "colorbar": {
              "outlinewidth": 0,
              "ticks": ""
             }
            },
            "type": "histogram"
           }
          ],
          "histogram2d": [
           {
            "colorbar": {
             "outlinewidth": 0,
             "ticks": ""
            },
            "colorscale": [
             [
              0,
              "#0d0887"
             ],
             [
              0.1111111111111111,
              "#46039f"
             ],
             [
              0.2222222222222222,
              "#7201a8"
             ],
             [
              0.3333333333333333,
              "#9c179e"
             ],
             [
              0.4444444444444444,
              "#bd3786"
             ],
             [
              0.5555555555555556,
              "#d8576b"
             ],
             [
              0.6666666666666666,
              "#ed7953"
             ],
             [
              0.7777777777777778,
              "#fb9f3a"
             ],
             [
              0.8888888888888888,
              "#fdca26"
             ],
             [
              1,
              "#f0f921"
             ]
            ],
            "type": "histogram2d"
           }
          ],
          "histogram2dcontour": [
           {
            "colorbar": {
             "outlinewidth": 0,
             "ticks": ""
            },
            "colorscale": [
             [
              0,
              "#0d0887"
             ],
             [
              0.1111111111111111,
              "#46039f"
             ],
             [
              0.2222222222222222,
              "#7201a8"
             ],
             [
              0.3333333333333333,
              "#9c179e"
             ],
             [
              0.4444444444444444,
              "#bd3786"
             ],
             [
              0.5555555555555556,
              "#d8576b"
             ],
             [
              0.6666666666666666,
              "#ed7953"
             ],
             [
              0.7777777777777778,
              "#fb9f3a"
             ],
             [
              0.8888888888888888,
              "#fdca26"
             ],
             [
              1,
              "#f0f921"
             ]
            ],
            "type": "histogram2dcontour"
           }
          ],
          "mesh3d": [
           {
            "colorbar": {
             "outlinewidth": 0,
             "ticks": ""
            },
            "type": "mesh3d"
           }
          ],
          "parcoords": [
           {
            "line": {
             "colorbar": {
              "outlinewidth": 0,
              "ticks": ""
             }
            },
            "type": "parcoords"
           }
          ],
          "pie": [
           {
            "automargin": true,
            "type": "pie"
           }
          ],
          "scatter": [
           {
            "marker": {
             "line": {
              "color": "#283442"
             }
            },
            "type": "scatter"
           }
          ],
          "scatter3d": [
           {
            "line": {
             "colorbar": {
              "outlinewidth": 0,
              "ticks": ""
             }
            },
            "marker": {
             "colorbar": {
              "outlinewidth": 0,
              "ticks": ""
             }
            },
            "type": "scatter3d"
           }
          ],
          "scattercarpet": [
           {
            "marker": {
             "colorbar": {
              "outlinewidth": 0,
              "ticks": ""
             }
            },
            "type": "scattercarpet"
           }
          ],
          "scattergeo": [
           {
            "marker": {
             "colorbar": {
              "outlinewidth": 0,
              "ticks": ""
             }
            },
            "type": "scattergeo"
           }
          ],
          "scattergl": [
           {
            "marker": {
             "line": {
              "color": "#283442"
             }
            },
            "type": "scattergl"
           }
          ],
          "scattermapbox": [
           {
            "marker": {
             "colorbar": {
              "outlinewidth": 0,
              "ticks": ""
             }
            },
            "type": "scattermapbox"
           }
          ],
          "scatterpolar": [
           {
            "marker": {
             "colorbar": {
              "outlinewidth": 0,
              "ticks": ""
             }
            },
            "type": "scatterpolar"
           }
          ],
          "scatterpolargl": [
           {
            "marker": {
             "colorbar": {
              "outlinewidth": 0,
              "ticks": ""
             }
            },
            "type": "scatterpolargl"
           }
          ],
          "scatterternary": [
           {
            "marker": {
             "colorbar": {
              "outlinewidth": 0,
              "ticks": ""
             }
            },
            "type": "scatterternary"
           }
          ],
          "surface": [
           {
            "colorbar": {
             "outlinewidth": 0,
             "ticks": ""
            },
            "colorscale": [
             [
              0,
              "#0d0887"
             ],
             [
              0.1111111111111111,
              "#46039f"
             ],
             [
              0.2222222222222222,
              "#7201a8"
             ],
             [
              0.3333333333333333,
              "#9c179e"
             ],
             [
              0.4444444444444444,
              "#bd3786"
             ],
             [
              0.5555555555555556,
              "#d8576b"
             ],
             [
              0.6666666666666666,
              "#ed7953"
             ],
             [
              0.7777777777777778,
              "#fb9f3a"
             ],
             [
              0.8888888888888888,
              "#fdca26"
             ],
             [
              1,
              "#f0f921"
             ]
            ],
            "type": "surface"
           }
          ],
          "table": [
           {
            "cells": {
             "fill": {
              "color": "#506784"
             },
             "line": {
              "color": "rgb(17,17,17)"
             }
            },
            "header": {
             "fill": {
              "color": "#2a3f5f"
             },
             "line": {
              "color": "rgb(17,17,17)"
             }
            },
            "type": "table"
           }
          ]
         },
         "layout": {
          "annotationdefaults": {
           "arrowcolor": "#f2f5fa",
           "arrowhead": 0,
           "arrowwidth": 1
          },
          "coloraxis": {
           "colorbar": {
            "outlinewidth": 0,
            "ticks": ""
           }
          },
          "colorscale": {
           "diverging": [
            [
             0,
             "#8e0152"
            ],
            [
             0.1,
             "#c51b7d"
            ],
            [
             0.2,
             "#de77ae"
            ],
            [
             0.3,
             "#f1b6da"
            ],
            [
             0.4,
             "#fde0ef"
            ],
            [
             0.5,
             "#f7f7f7"
            ],
            [
             0.6,
             "#e6f5d0"
            ],
            [
             0.7,
             "#b8e186"
            ],
            [
             0.8,
             "#7fbc41"
            ],
            [
             0.9,
             "#4d9221"
            ],
            [
             1,
             "#276419"
            ]
           ],
           "sequential": [
            [
             0,
             "#0d0887"
            ],
            [
             0.1111111111111111,
             "#46039f"
            ],
            [
             0.2222222222222222,
             "#7201a8"
            ],
            [
             0.3333333333333333,
             "#9c179e"
            ],
            [
             0.4444444444444444,
             "#bd3786"
            ],
            [
             0.5555555555555556,
             "#d8576b"
            ],
            [
             0.6666666666666666,
             "#ed7953"
            ],
            [
             0.7777777777777778,
             "#fb9f3a"
            ],
            [
             0.8888888888888888,
             "#fdca26"
            ],
            [
             1,
             "#f0f921"
            ]
           ],
           "sequentialminus": [
            [
             0,
             "#0d0887"
            ],
            [
             0.1111111111111111,
             "#46039f"
            ],
            [
             0.2222222222222222,
             "#7201a8"
            ],
            [
             0.3333333333333333,
             "#9c179e"
            ],
            [
             0.4444444444444444,
             "#bd3786"
            ],
            [
             0.5555555555555556,
             "#d8576b"
            ],
            [
             0.6666666666666666,
             "#ed7953"
            ],
            [
             0.7777777777777778,
             "#fb9f3a"
            ],
            [
             0.8888888888888888,
             "#fdca26"
            ],
            [
             1,
             "#f0f921"
            ]
           ]
          },
          "colorway": [
           "#636efa",
           "#EF553B",
           "#00cc96",
           "#ab63fa",
           "#FFA15A",
           "#19d3f3",
           "#FF6692",
           "#B6E880",
           "#FF97FF",
           "#FECB52"
          ],
          "font": {
           "color": "#f2f5fa"
          },
          "geo": {
           "bgcolor": "rgb(17,17,17)",
           "lakecolor": "rgb(17,17,17)",
           "landcolor": "rgb(17,17,17)",
           "showlakes": true,
           "showland": true,
           "subunitcolor": "#506784"
          },
          "hoverlabel": {
           "align": "left"
          },
          "hovermode": "closest",
          "mapbox": {
           "style": "dark"
          },
          "paper_bgcolor": "rgb(17,17,17)",
          "plot_bgcolor": "rgb(17,17,17)",
          "polar": {
           "angularaxis": {
            "gridcolor": "#506784",
            "linecolor": "#506784",
            "ticks": ""
           },
           "bgcolor": "rgb(17,17,17)",
           "radialaxis": {
            "gridcolor": "#506784",
            "linecolor": "#506784",
            "ticks": ""
           }
          },
          "scene": {
           "xaxis": {
            "backgroundcolor": "rgb(17,17,17)",
            "gridcolor": "#506784",
            "gridwidth": 2,
            "linecolor": "#506784",
            "showbackground": true,
            "ticks": "",
            "zerolinecolor": "#C8D4E3"
           },
           "yaxis": {
            "backgroundcolor": "rgb(17,17,17)",
            "gridcolor": "#506784",
            "gridwidth": 2,
            "linecolor": "#506784",
            "showbackground": true,
            "ticks": "",
            "zerolinecolor": "#C8D4E3"
           },
           "zaxis": {
            "backgroundcolor": "rgb(17,17,17)",
            "gridcolor": "#506784",
            "gridwidth": 2,
            "linecolor": "#506784",
            "showbackground": true,
            "ticks": "",
            "zerolinecolor": "#C8D4E3"
           }
          },
          "shapedefaults": {
           "line": {
            "color": "#f2f5fa"
           }
          },
          "sliderdefaults": {
           "bgcolor": "#C8D4E3",
           "bordercolor": "rgb(17,17,17)",
           "borderwidth": 1,
           "tickwidth": 0
          },
          "ternary": {
           "aaxis": {
            "gridcolor": "#506784",
            "linecolor": "#506784",
            "ticks": ""
           },
           "baxis": {
            "gridcolor": "#506784",
            "linecolor": "#506784",
            "ticks": ""
           },
           "bgcolor": "rgb(17,17,17)",
           "caxis": {
            "gridcolor": "#506784",
            "linecolor": "#506784",
            "ticks": ""
           }
          },
          "title": {
           "x": 0.05
          },
          "updatemenudefaults": {
           "bgcolor": "#506784",
           "borderwidth": 0
          },
          "xaxis": {
           "automargin": true,
           "gridcolor": "#283442",
           "linecolor": "#506784",
           "ticks": "",
           "title": {
            "standoff": 15
           },
           "zerolinecolor": "#283442",
           "zerolinewidth": 2
          },
          "yaxis": {
           "automargin": true,
           "gridcolor": "#283442",
           "linecolor": "#506784",
           "ticks": "",
           "title": {
            "standoff": 15
           },
           "zerolinecolor": "#283442",
           "zerolinewidth": 2
          }
         }
        }
       }
      }
     },
     "metadata": {},
     "output_type": "display_data"
    }
   ],
   "source": [
    "fig = px.line_polar(plotter, r=plotter.values[0], theta=features, line_close=True,\n",
    "                    template=\"plotly_dark\", range_r=[0, 1])\n",
    "fig.update_traces(fill='toself')\n",
    "fig.show()"
   ]
  },
  {
   "cell_type": "code",
   "execution_count": 38,
   "metadata": {},
   "outputs": [
    {
     "data": {
      "text/plain": "['__class__',\n '__contains__',\n '__delattr__',\n '__dict__',\n '__dir__',\n '__doc__',\n '__eq__',\n '__format__',\n '__ge__',\n '__getattribute__',\n '__getitem__',\n '__gt__',\n '__hash__',\n '__init__',\n '__init_subclass__',\n '__iter__',\n '__le__',\n '__lt__',\n '__module__',\n '__ne__',\n '__new__',\n '__reduce__',\n '__reduce_ex__',\n '__repr__',\n '__setattr__',\n '__setitem__',\n '__sizeof__',\n '__str__',\n '__subclasshook__',\n '__weakref__',\n '_add_annotation_like',\n '_animation_duration_validator',\n '_animation_easing_validator',\n '_batch_layout_edits',\n '_batch_trace_edits',\n '_bracket_re',\n '_build_dispatch_plan',\n '_build_update_params_from_batch',\n '_config',\n '_data',\n '_data_defaults',\n '_data_objs',\n '_data_validator',\n '_dispatch_layout_change_callbacks',\n '_dispatch_trace_change_callbacks',\n '_frame_objs',\n '_frames_validator',\n '_get_child_prop_defaults',\n '_get_child_props',\n '_grid_ref',\n '_grid_str',\n '_in_batch_mode',\n '_index_is',\n '_init_child_props',\n '_initialize_layout_template',\n '_ipython_display_',\n '_is_dict_list',\n '_is_key_path_compatible',\n '_layout',\n '_layout_defaults',\n '_layout_obj',\n '_layout_validator',\n '_normalize_trace_indexes',\n '_perform_batch_animate',\n '_perform_plotly_relayout',\n '_perform_plotly_restyle',\n '_perform_plotly_update',\n '_perform_select_traces',\n '_perform_update',\n '_px_trendlines',\n '_raise_invalid_rows_cols',\n '_relayout_child',\n '_restyle_child',\n '_select_annotations_like',\n '_select_layout_subplots_by_prefix',\n '_selector_matches',\n '_send_addTraces_msg',\n '_send_animate_msg',\n '_send_deleteTraces_msg',\n '_send_moveTraces_msg',\n '_send_relayout_msg',\n '_send_restyle_msg',\n '_send_update_msg',\n '_set_in',\n '_set_trace_grid_position',\n '_set_trace_uid',\n '_str_to_dict_path',\n '_to_ordered_dict',\n '_valid_underscore_properties',\n '_validate_get_grid_ref',\n '_validate_rows_cols',\n 'add_annotation',\n 'add_area',\n 'add_bar',\n 'add_barpolar',\n 'add_box',\n 'add_candlestick',\n 'add_carpet',\n 'add_choropleth',\n 'add_choroplethmapbox',\n 'add_cone',\n 'add_contour',\n 'add_contourcarpet',\n 'add_densitymapbox',\n 'add_funnel',\n 'add_funnelarea',\n 'add_heatmap',\n 'add_heatmapgl',\n 'add_histogram',\n 'add_histogram2d',\n 'add_histogram2dcontour',\n 'add_image',\n 'add_indicator',\n 'add_isosurface',\n 'add_layout_image',\n 'add_mesh3d',\n 'add_ohlc',\n 'add_parcats',\n 'add_parcoords',\n 'add_pie',\n 'add_pointcloud',\n 'add_sankey',\n 'add_scatter',\n 'add_scatter3d',\n 'add_scattercarpet',\n 'add_scattergeo',\n 'add_scattergl',\n 'add_scattermapbox',\n 'add_scatterpolar',\n 'add_scatterpolargl',\n 'add_scatterternary',\n 'add_shape',\n 'add_splom',\n 'add_streamtube',\n 'add_sunburst',\n 'add_surface',\n 'add_table',\n 'add_trace',\n 'add_traces',\n 'add_treemap',\n 'add_violin',\n 'add_volume',\n 'add_waterfall',\n 'append_trace',\n 'batch_animate',\n 'batch_update',\n 'data',\n 'for_each_annotation',\n 'for_each_coloraxis',\n 'for_each_geo',\n 'for_each_layout_image',\n 'for_each_mapbox',\n 'for_each_polar',\n 'for_each_scene',\n 'for_each_shape',\n 'for_each_ternary',\n 'for_each_trace',\n 'for_each_xaxis',\n 'for_each_yaxis',\n 'frames',\n 'get_subplot',\n 'layout',\n 'plotly_relayout',\n 'plotly_restyle',\n 'plotly_update',\n 'pop',\n 'print_grid',\n 'select_annotations',\n 'select_coloraxes',\n 'select_geos',\n 'select_layout_images',\n 'select_mapboxes',\n 'select_polars',\n 'select_scenes',\n 'select_shapes',\n 'select_ternaries',\n 'select_traces',\n 'select_xaxes',\n 'select_yaxes',\n 'show',\n 'to_dict',\n 'to_html',\n 'to_image',\n 'to_json',\n 'to_ordered_dict',\n 'to_plotly_json',\n 'update',\n 'update_annotations',\n 'update_coloraxes',\n 'update_geos',\n 'update_layout',\n 'update_layout_images',\n 'update_mapboxes',\n 'update_polars',\n 'update_scenes',\n 'update_shapes',\n 'update_ternaries',\n 'update_traces',\n 'update_xaxes',\n 'update_yaxes',\n 'write_html',\n 'write_image',\n 'write_json']"
     },
     "execution_count": 38,
     "metadata": {},
     "output_type": "execute_result"
    }
   ],
   "source": [
    "dir(fig)"
   ]
  },
  {
   "cell_type": "code",
   "execution_count": 15,
   "metadata": {},
   "outputs": [],
   "source": [
    "img_bytes = fig.to_image(format=\"png\")"
   ]
  },
  {
   "cell_type": "code",
   "execution_count": 16,
   "metadata": {},
   "outputs": [
    {
     "data": {
      "text/plain": "b'\\x89PNG\\r\\n\\x1a\\n\\x00\\x00\\x00\\rIHDR\\x00\\x00\\x02\\xbc'"
     },
     "execution_count": 16,
     "metadata": {},
     "output_type": "execute_result"
    }
   ],
   "source": [
    "img_bytes[:20]"
   ]
  },
  {
   "cell_type": "code",
   "execution_count": 19,
   "metadata": {},
   "outputs": [
    {
     "data": {
      "image/png": "[encoded data removed]",
      "text/plain": "<IPython.core.display.Image object>"
     },
     "execution_count": 19,
     "metadata": {},
     "output_type": "execute_result"
    }
   ],
   "source": [
    "from IPython.display import Image\n",
    "Image(img_bytes)"
   ]
  },
  {
   "cell_type": "code",
   "execution_count": null,
   "metadata": {},
   "outputs": [],
   "source": []
  }
 ]
}